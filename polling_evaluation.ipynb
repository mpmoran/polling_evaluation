{
 "cells": [
  {
   "cell_type": "code",
   "execution_count": 1,
   "metadata": {},
   "outputs": [
    {
     "name": "stdout",
     "output_type": "stream",
     "text": [
      "Requirement already satisfied: realclearpolitics in /opt/conda/lib/python3.8/site-packages (1.4.0)\r\n",
      "Requirement already satisfied: beautifulsoup4 in /opt/conda/lib/python3.8/site-packages (from realclearpolitics) (4.9.3)\r\n",
      "Requirement already satisfied: urllib3 in /opt/conda/lib/python3.8/site-packages (from realclearpolitics) (1.25.11)\r\n",
      "Requirement already satisfied: PTable in /opt/conda/lib/python3.8/site-packages (from realclearpolitics) (0.9.2)\r\n",
      "Requirement already satisfied: soupsieve>1.2; python_version >= \"3.0\" in /opt/conda/lib/python3.8/site-packages (from beautifulsoup4->realclearpolitics) (2.0.1)\r\n"
     ]
    }
   ],
   "source": [
    "!pip install realclearpolitics"
   ]
  },
  {
   "cell_type": "code",
   "execution_count": 2,
   "metadata": {},
   "outputs": [
    {
     "name": "stdout",
     "output_type": "stream",
     "text": [
      "Downloading: texas_trump_vs_biden-6818.csv\r\n",
      "CSV created.\r\n"
     ]
    }
   ],
   "source": [
    "!rcp https://www.realclearpolitics.com/epolls/2020/president/tx/texas_trump_vs_biden-6818.html"
   ]
  },
  {
   "cell_type": "code",
   "execution_count": 3,
   "metadata": {},
   "outputs": [
    {
     "name": "stdout",
     "output_type": "stream",
     "text": [
      "total 36K\r\n",
      "-rw-r--r--. 1 jovyan users  26K Nov 12 06:14 polling_evaluation.ipynb\r\n",
      "-rw-r--r--. 1 jovyan  1000  318 Nov 12 03:58 README.md\r\n",
      "drwxr-xr-x. 2 jovyan users    6 Nov 12 04:21 spark-warehouse\r\n",
      "-rw-r--r--. 1 jovyan users 2.5K Nov 12 06:14 texas_trump_vs_biden-6818.csv\r\n"
     ]
    }
   ],
   "source": [
    "!ls -lh"
   ]
  },
  {
   "cell_type": "code",
   "execution_count": 4,
   "metadata": {},
   "outputs": [],
   "source": [
    "from pyspark.sql import SparkSession"
   ]
  },
  {
   "cell_type": "code",
   "execution_count": 5,
   "metadata": {},
   "outputs": [],
   "source": [
    "spark = (\n",
    "    SparkSession.builder\n",
    "    .master(\"local\")\n",
    "    .appName(\"polling_error\")\n",
    "    #.config(\"spark.some.config.option\", \"some-value\")\n",
    "    .getOrCreate()\n",
    ")"
   ]
  },
  {
   "cell_type": "code",
   "execution_count": 6,
   "metadata": {},
   "outputs": [],
   "source": [
    "df = spark.read.csv('texas_trump_vs_biden-6818.csv',\n",
    "                    header=True,\n",
    "                    inferSchema=True,\n",
    "                    enforceSchema=False,\n",
    "                    mode='FAILFAST')"
   ]
  },
  {
   "cell_type": "code",
   "execution_count": 7,
   "metadata": {},
   "outputs": [],
   "source": [
    "df = (\n",
    "    df.withColumnRenamed('Poll', 'poll')\n",
    "      .withColumnRenamed('Date', 'date_range')\n",
    "      .withColumnRenamed('Sample', 'sample_size')\n",
    "      .withColumnRenamed('MoE', 'margin_of_error')\n",
    "      .withColumnRenamed('Trump (R)', 'trump')\n",
    "      .withColumnRenamed('Biden (D)', 'biden')\n",
    "      .withColumnRenamed('Spread', 'spread')\n",
    ")"
   ]
  },
  {
   "cell_type": "code",
   "execution_count": 8,
   "metadata": {},
   "outputs": [],
   "source": [
    "df.createOrReplaceTempView('tx_pres_polls_raw')"
   ]
  },
  {
   "cell_type": "code",
   "execution_count": 9,
   "metadata": {},
   "outputs": [
    {
     "name": "stdout",
     "output_type": "stream",
     "text": [
      "+---------------+---------+-------+\n",
      "|col_name       |data_type|comment|\n",
      "+---------------+---------+-------+\n",
      "|poll           |string   |null   |\n",
      "|date_range     |string   |null   |\n",
      "|sample_size    |string   |null   |\n",
      "|margin_of_error|string   |null   |\n",
      "|trump          |double   |null   |\n",
      "|biden          |double   |null   |\n",
      "|spread         |string   |null   |\n",
      "+---------------+---------+-------+\n",
      "\n"
     ]
    }
   ],
   "source": [
    "spark.sql('''\n",
    "DESCRIBE tx_pres_polls_raw\n",
    "''').show(truncate=False)"
   ]
  },
  {
   "cell_type": "code",
   "execution_count": 10,
   "metadata": {},
   "outputs": [
    {
     "name": "stdout",
     "output_type": "stream",
     "text": [
      "+----------------------------------+-------------+-----------+---------------+-----+-----+----------+\n",
      "|poll                              |date_range   |sample_size|margin_of_error|trump|biden|spread    |\n",
      "+----------------------------------+-------------+-----------+---------------+-----+-----+----------+\n",
      "|Final Results                     |--           |--         |--             |52.2 |46.4 |Trump +5.8|\n",
      "|RCP Average                       |10/20 - 10/31|--         |--             |47.8 |46.5 |Trump +1.3|\n",
      "|EmersonEmerson                    |10/29 - 10/31|763 LV     |3.5            |49.0 |49.0 |Tie       |\n",
      "|UMass Lowell*UMass Lowell*        |10/20 - 10/26|873 LV     |4.2            |48.0 |47.0 |Trump +1  |\n",
      "|NY Times/Siena*NYT/Siena*         |10/20 - 10/25|802 LV     |3.8            |47.0 |43.0 |Trump +4  |\n",
      "|QuinnipiacQuinnipiac              |10/16 - 10/19|1145 LV    |2.9            |47.0 |47.0 |Tie       |\n",
      "|University of HoustonU. of Houston|10/13 - 10/20|1000 LV    |3.1            |50.0 |45.0 |Trump +5  |\n",
      "|Dallas Morning News*DMN*          |10/13 - 10/20|925 LV     |3.2            |45.0 |48.0 |Biden +3  |\n",
      "|Rasmussen ReportsRasmussen        |10/5 - 10/6  |1000 LV    |3.0            |51.0 |44.0 |Trump +7  |\n",
      "|UT/Texas Tribune*UT/Texas Tribune*|9/25 - 10/4  |908 LV     |4.1            |50.0 |45.0 |Trump +5  |\n",
      "+----------------------------------+-------------+-----------+---------------+-----+-----+----------+\n",
      "\n"
     ]
    }
   ],
   "source": [
    "spark.sql('''\n",
    "    SELECT *\n",
    "    FROM tx_pres_polls_raw\n",
    "    LIMIT 10\n",
    "''').show(truncate=False)"
   ]
  },
  {
   "cell_type": "code",
   "execution_count": 11,
   "metadata": {},
   "outputs": [],
   "source": [
    "spark.sql('''\n",
    "    SELECT poll,\n",
    "           '2020-11-03' as election_date,\n",
    "           trump,\n",
    "           biden,\n",
    "           lower(split(spread, ' ', -1)[0]) as winner,\n",
    "           CASE WHEN split(spread, ' ', -1)[0] = 'Tie'\n",
    "                THEN 0.0\n",
    "                ELSE cast(split(spread, ' ', -1)[1] as double) END AS spread\n",
    "    FROM tx_pres_polls_raw\n",
    "    WHERE poll = 'Final Results'\n",
    "''').createOrReplaceTempView('tx_pres_results')"
   ]
  },
  {
   "cell_type": "code",
   "execution_count": 12,
   "metadata": {},
   "outputs": [
    {
     "name": "stdout",
     "output_type": "stream",
     "text": [
      "+-------------+---------+-------+\n",
      "|     col_name|data_type|comment|\n",
      "+-------------+---------+-------+\n",
      "|         poll|   string|   null|\n",
      "|election_date|   string|   null|\n",
      "|        trump|   double|   null|\n",
      "|        biden|   double|   null|\n",
      "|       winner|   string|   null|\n",
      "|       spread|   double|   null|\n",
      "+-------------+---------+-------+\n",
      "\n",
      "+-------------+-------------+-----+-----+------+------+\n",
      "|poll         |election_date|trump|biden|winner|spread|\n",
      "+-------------+-------------+-----+-----+------+------+\n",
      "|Final Results|2020-11-03   |52.2 |46.4 |trump |5.8   |\n",
      "+-------------+-------------+-----+-----+------+------+\n",
      "\n"
     ]
    }
   ],
   "source": [
    "spark.sql('''\n",
    "    DESCRIBE tx_pres_results\n",
    "''').show()\n",
    "spark.sql('''\n",
    "    SELECT *\n",
    "    FROM tx_pres_results\n",
    "    LIMIT 10\n",
    "''').show(truncate=False)"
   ]
  },
  {
   "cell_type": "code",
   "execution_count": 13,
   "metadata": {},
   "outputs": [],
   "source": [
    "spark.sql('''\n",
    "    SELECT poll, \n",
    "           date_range,\n",
    "           cast(split(sample_size, ' ', -1)[0] as int) as sample_size,\n",
    "           cast(margin_of_error as double) as margin_of_error,\n",
    "           trump,\n",
    "           biden,\n",
    "           lower(split(spread, ' ', -1)[0]) as winner,\n",
    "           split(spread, ' ', -1)[0] = 'Trump' as is_winner_correct,\n",
    "           CASE WHEN split(spread, ' ', -1)[0] = 'Tie'\n",
    "                THEN 0.0\n",
    "                ELSE cast(split(spread, ' ', -1)[1] as double) END AS spread\n",
    "    FROM tx_pres_polls_raw\n",
    "    WHERE poll != 'Final Results'\n",
    "''').createOrReplaceTempView('tx_pres_polls_stage1')"
   ]
  },
  {
   "cell_type": "code",
   "execution_count": 14,
   "metadata": {},
   "outputs": [
    {
     "name": "stdout",
     "output_type": "stream",
     "text": [
      "+-----------------+---------+-------+\n",
      "|         col_name|data_type|comment|\n",
      "+-----------------+---------+-------+\n",
      "|             poll|   string|   null|\n",
      "|       date_range|   string|   null|\n",
      "|      sample_size|      int|   null|\n",
      "|  margin_of_error|   double|   null|\n",
      "|            trump|   double|   null|\n",
      "|            biden|   double|   null|\n",
      "|           winner|   string|   null|\n",
      "|is_winner_correct|  boolean|   null|\n",
      "|           spread|   double|   null|\n",
      "+-----------------+---------+-------+\n",
      "\n",
      "+--------------------+-------------+-----------+---------------+-----+-----+------+-----------------+------+\n",
      "|                poll|   date_range|sample_size|margin_of_error|trump|biden|winner|is_winner_correct|spread|\n",
      "+--------------------+-------------+-----------+---------------+-----+-----+------+-----------------+------+\n",
      "|         RCP Average|10/20 - 10/31|       null|           null| 47.8| 46.5| trump|             true|   1.3|\n",
      "|      EmersonEmerson|10/29 - 10/31|        763|            3.5| 49.0| 49.0|   tie|            false|   0.0|\n",
      "|UMass Lowell*UMas...|10/20 - 10/26|        873|            4.2| 48.0| 47.0| trump|             true|   1.0|\n",
      "|NY Times/Siena*NY...|10/20 - 10/25|        802|            3.8| 47.0| 43.0| trump|             true|   4.0|\n",
      "|QuinnipiacQuinnipiac|10/16 - 10/19|       1145|            2.9| 47.0| 47.0|   tie|            false|   0.0|\n",
      "|University of Hou...|10/13 - 10/20|       1000|            3.1| 50.0| 45.0| trump|             true|   5.0|\n",
      "|Dallas Morning Ne...|10/13 - 10/20|        925|            3.2| 45.0| 48.0| biden|            false|   3.0|\n",
      "|Rasmussen Reports...|  10/5 - 10/6|       1000|            3.0| 51.0| 44.0| trump|             true|   7.0|\n",
      "|UT/Texas Tribune*...|  9/25 - 10/4|        908|            4.1| 50.0| 45.0| trump|             true|   5.0|\n",
      "|UMass LowellUMLowell|  9/18 - 9/25|        882|            4.3| 50.0| 46.0| trump|             true|   4.0|\n",
      "+--------------------+-------------+-----------+---------------+-----+-----+------+-----------------+------+\n",
      "\n"
     ]
    }
   ],
   "source": [
    "spark.sql('''\n",
    "    DESCRIBE tx_pres_polls_stage1\n",
    "''').show()\n",
    "spark.sql('''\n",
    "    SELECT *\n",
    "    FROM tx_pres_polls_stage1\n",
    "    LIMIT 10\n",
    "''').show()"
   ]
  },
  {
   "cell_type": "code",
   "execution_count": 15,
   "metadata": {},
   "outputs": [],
   "source": [
    "spark.sql('''\n",
    "    SELECT *,\n",
    "           (SELECT spread FROM tx_pres_results LIMIT 1) as results_spread,\n",
    "           round(spread - (SELECT spread FROM tx_pres_results LIMIT 1), 1) as spread_diff\n",
    "    FROM tx_pres_polls_stage1\n",
    "''').createOrReplaceTempView('tx_pres_polls')"
   ]
  },
  {
   "cell_type": "code",
   "execution_count": 16,
   "metadata": {},
   "outputs": [
    {
     "name": "stdout",
     "output_type": "stream",
     "text": [
      "+-----------------+---------+-------+\n",
      "|         col_name|data_type|comment|\n",
      "+-----------------+---------+-------+\n",
      "|             poll|   string|   null|\n",
      "|       date_range|   string|   null|\n",
      "|      sample_size|      int|   null|\n",
      "|  margin_of_error|   double|   null|\n",
      "|            trump|   double|   null|\n",
      "|            biden|   double|   null|\n",
      "|           winner|   string|   null|\n",
      "|is_winner_correct|  boolean|   null|\n",
      "|           spread|   double|   null|\n",
      "|   results_spread|   double|   null|\n",
      "|      spread_diff|   double|   null|\n",
      "+-----------------+---------+-------+\n",
      "\n",
      "+--------------------+-------------+-----------+---------------+-----+-----+------+-----------------+------+--------------+-----------+\n",
      "|                poll|   date_range|sample_size|margin_of_error|trump|biden|winner|is_winner_correct|spread|results_spread|spread_diff|\n",
      "+--------------------+-------------+-----------+---------------+-----+-----+------+-----------------+------+--------------+-----------+\n",
      "|         RCP Average|10/20 - 10/31|       null|           null| 47.8| 46.5| trump|             true|   1.3|           5.8|       -4.5|\n",
      "|      EmersonEmerson|10/29 - 10/31|        763|            3.5| 49.0| 49.0|   tie|            false|   0.0|           5.8|       -5.8|\n",
      "|UMass Lowell*UMas...|10/20 - 10/26|        873|            4.2| 48.0| 47.0| trump|             true|   1.0|           5.8|       -4.8|\n",
      "|NY Times/Siena*NY...|10/20 - 10/25|        802|            3.8| 47.0| 43.0| trump|             true|   4.0|           5.8|       -1.8|\n",
      "|QuinnipiacQuinnipiac|10/16 - 10/19|       1145|            2.9| 47.0| 47.0|   tie|            false|   0.0|           5.8|       -5.8|\n",
      "|University of Hou...|10/13 - 10/20|       1000|            3.1| 50.0| 45.0| trump|             true|   5.0|           5.8|       -0.8|\n",
      "|Dallas Morning Ne...|10/13 - 10/20|        925|            3.2| 45.0| 48.0| biden|            false|   3.0|           5.8|       -2.8|\n",
      "|Rasmussen Reports...|  10/5 - 10/6|       1000|            3.0| 51.0| 44.0| trump|             true|   7.0|           5.8|        1.2|\n",
      "|UT/Texas Tribune*...|  9/25 - 10/4|        908|            4.1| 50.0| 45.0| trump|             true|   5.0|           5.8|       -0.8|\n",
      "|UMass LowellUMLowell|  9/18 - 9/25|        882|            4.3| 50.0| 46.0| trump|             true|   4.0|           5.8|       -1.8|\n",
      "+--------------------+-------------+-----------+---------------+-----+-----+------+-----------------+------+--------------+-----------+\n",
      "\n"
     ]
    }
   ],
   "source": [
    "spark.sql('''\n",
    "    DESCRIBE tx_pres_polls\n",
    "''').show()\n",
    "spark.sql('''\n",
    "    SELECT *\n",
    "    FROM tx_pres_polls\n",
    "    LIMIT 10\n",
    "''').show()"
   ]
  },
  {
   "cell_type": "code",
   "execution_count": 17,
   "metadata": {},
   "outputs": [
    {
     "name": "stdout",
     "output_type": "stream",
     "text": [
      "top 5 polls\n",
      "===========\n"
     ]
    },
    {
     "data": {
      "text/html": [
       "<div>\n",
       "<style scoped>\n",
       "    .dataframe tbody tr th:only-of-type {\n",
       "        vertical-align: middle;\n",
       "    }\n",
       "\n",
       "    .dataframe tbody tr th {\n",
       "        vertical-align: top;\n",
       "    }\n",
       "\n",
       "    .dataframe thead th {\n",
       "        text-align: right;\n",
       "    }\n",
       "</style>\n",
       "<table border=\"1\" class=\"dataframe\">\n",
       "  <thead>\n",
       "    <tr style=\"text-align: right;\">\n",
       "      <th></th>\n",
       "      <th>poll</th>\n",
       "      <th>date_range</th>\n",
       "      <th>sample_size</th>\n",
       "      <th>margin_of_error</th>\n",
       "      <th>trump</th>\n",
       "      <th>biden</th>\n",
       "      <th>winner</th>\n",
       "      <th>is_winner_correct</th>\n",
       "      <th>spread</th>\n",
       "      <th>results_spread</th>\n",
       "      <th>spread_diff</th>\n",
       "    </tr>\n",
       "  </thead>\n",
       "  <tbody>\n",
       "    <tr>\n",
       "      <th>0</th>\n",
       "      <td>Trafalgar Group (R)*Trafalgar (R)*</td>\n",
       "      <td>8/1 - 8/5</td>\n",
       "      <td>1015</td>\n",
       "      <td>3.0</td>\n",
       "      <td>49.0</td>\n",
       "      <td>43.0</td>\n",
       "      <td>trump</td>\n",
       "      <td>True</td>\n",
       "      <td>6.0</td>\n",
       "      <td>5.8</td>\n",
       "      <td>0.2</td>\n",
       "    </tr>\n",
       "    <tr>\n",
       "      <th>1</th>\n",
       "      <td>EmersonEmerson</td>\n",
       "      <td>5/8 - 5/10</td>\n",
       "      <td>800</td>\n",
       "      <td>3.4</td>\n",
       "      <td>47.0</td>\n",
       "      <td>41.0</td>\n",
       "      <td>trump</td>\n",
       "      <td>True</td>\n",
       "      <td>6.0</td>\n",
       "      <td>5.8</td>\n",
       "      <td>0.2</td>\n",
       "    </tr>\n",
       "    <tr>\n",
       "      <th>2</th>\n",
       "      <td>UT/Texas Tribune*UT/Texas Tribune*</td>\n",
       "      <td>9/25 - 10/4</td>\n",
       "      <td>908</td>\n",
       "      <td>4.1</td>\n",
       "      <td>50.0</td>\n",
       "      <td>45.0</td>\n",
       "      <td>trump</td>\n",
       "      <td>True</td>\n",
       "      <td>5.0</td>\n",
       "      <td>5.8</td>\n",
       "      <td>-0.8</td>\n",
       "    </tr>\n",
       "    <tr>\n",
       "      <th>3</th>\n",
       "      <td>University of HoustonU. of Houston</td>\n",
       "      <td>10/13 - 10/20</td>\n",
       "      <td>1000</td>\n",
       "      <td>3.1</td>\n",
       "      <td>50.0</td>\n",
       "      <td>45.0</td>\n",
       "      <td>trump</td>\n",
       "      <td>True</td>\n",
       "      <td>5.0</td>\n",
       "      <td>5.8</td>\n",
       "      <td>-0.8</td>\n",
       "    </tr>\n",
       "    <tr>\n",
       "      <th>4</th>\n",
       "      <td>Texas LyceumTexas Lyceum</td>\n",
       "      <td>1/10 - 1/19</td>\n",
       "      <td>520</td>\n",
       "      <td>4.3</td>\n",
       "      <td>51.0</td>\n",
       "      <td>46.0</td>\n",
       "      <td>trump</td>\n",
       "      <td>True</td>\n",
       "      <td>5.0</td>\n",
       "      <td>5.8</td>\n",
       "      <td>-0.8</td>\n",
       "    </tr>\n",
       "  </tbody>\n",
       "</table>\n",
       "</div>"
      ],
      "text/plain": [
       "                                 poll     date_range  sample_size  \\\n",
       "0  Trafalgar Group (R)*Trafalgar (R)*      8/1 - 8/5         1015   \n",
       "1                      EmersonEmerson     5/8 - 5/10          800   \n",
       "2  UT/Texas Tribune*UT/Texas Tribune*    9/25 - 10/4          908   \n",
       "3  University of HoustonU. of Houston  10/13 - 10/20         1000   \n",
       "4            Texas LyceumTexas Lyceum    1/10 - 1/19          520   \n",
       "\n",
       "   margin_of_error  trump  biden winner  is_winner_correct  spread  \\\n",
       "0              3.0   49.0   43.0  trump               True     6.0   \n",
       "1              3.4   47.0   41.0  trump               True     6.0   \n",
       "2              4.1   50.0   45.0  trump               True     5.0   \n",
       "3              3.1   50.0   45.0  trump               True     5.0   \n",
       "4              4.3   51.0   46.0  trump               True     5.0   \n",
       "\n",
       "   results_spread  spread_diff  \n",
       "0             5.8          0.2  \n",
       "1             5.8          0.2  \n",
       "2             5.8         -0.8  \n",
       "3             5.8         -0.8  \n",
       "4             5.8         -0.8  "
      ]
     },
     "execution_count": 17,
     "metadata": {},
     "output_type": "execute_result"
    }
   ],
   "source": [
    "print('top 5 polls\\n'\n",
    "      '===========')\n",
    "spark.sql('''\n",
    "    SELECT *\n",
    "    FROM tx_pres_polls\n",
    "    WHERE is_winner_correct = true\n",
    "    ORDER BY abs(spread_diff) ASC\n",
    "    LIMIT 5\n",
    "''').toPandas()"
   ]
  },
  {
   "cell_type": "code",
   "execution_count": 18,
   "metadata": {},
   "outputs": [
    {
     "name": "stdout",
     "output_type": "stream",
     "text": [
      "bottom 5 polls\n",
      "===========\n"
     ]
    },
    {
     "data": {
      "text/html": [
       "<div>\n",
       "<style scoped>\n",
       "    .dataframe tbody tr th:only-of-type {\n",
       "        vertical-align: middle;\n",
       "    }\n",
       "\n",
       "    .dataframe tbody tr th {\n",
       "        vertical-align: top;\n",
       "    }\n",
       "\n",
       "    .dataframe thead th {\n",
       "        text-align: right;\n",
       "    }\n",
       "</style>\n",
       "<table border=\"1\" class=\"dataframe\">\n",
       "  <thead>\n",
       "    <tr style=\"text-align: right;\">\n",
       "      <th></th>\n",
       "      <th>poll</th>\n",
       "      <th>date_range</th>\n",
       "      <th>sample_size</th>\n",
       "      <th>margin_of_error</th>\n",
       "      <th>trump</th>\n",
       "      <th>biden</th>\n",
       "      <th>winner</th>\n",
       "      <th>is_winner_correct</th>\n",
       "      <th>spread</th>\n",
       "      <th>results_spread</th>\n",
       "      <th>spread_diff</th>\n",
       "    </tr>\n",
       "  </thead>\n",
       "  <tbody>\n",
       "    <tr>\n",
       "      <th>0</th>\n",
       "      <td>Dallas Morning NewsDMN</td>\n",
       "      <td>4/18 - 4/27</td>\n",
       "      <td>1183</td>\n",
       "      <td>2.9</td>\n",
       "      <td>43.0</td>\n",
       "      <td>43.0</td>\n",
       "      <td>tie</td>\n",
       "      <td>False</td>\n",
       "      <td>0.0</td>\n",
       "      <td>5.8</td>\n",
       "      <td>-5.8</td>\n",
       "    </tr>\n",
       "    <tr>\n",
       "      <th>1</th>\n",
       "      <td>QuinnipiacQuinnipiac</td>\n",
       "      <td>10/16 - 10/19</td>\n",
       "      <td>1145</td>\n",
       "      <td>2.9</td>\n",
       "      <td>47.0</td>\n",
       "      <td>47.0</td>\n",
       "      <td>tie</td>\n",
       "      <td>False</td>\n",
       "      <td>0.0</td>\n",
       "      <td>5.8</td>\n",
       "      <td>-5.8</td>\n",
       "    </tr>\n",
       "    <tr>\n",
       "      <th>2</th>\n",
       "      <td>EmersonEmerson</td>\n",
       "      <td>10/29 - 10/31</td>\n",
       "      <td>763</td>\n",
       "      <td>3.5</td>\n",
       "      <td>49.0</td>\n",
       "      <td>49.0</td>\n",
       "      <td>tie</td>\n",
       "      <td>False</td>\n",
       "      <td>0.0</td>\n",
       "      <td>5.8</td>\n",
       "      <td>-5.8</td>\n",
       "    </tr>\n",
       "    <tr>\n",
       "      <th>3</th>\n",
       "      <td>CNNCNN</td>\n",
       "      <td>2/22 - 2/26</td>\n",
       "      <td>1003</td>\n",
       "      <td>3.0</td>\n",
       "      <td>47.0</td>\n",
       "      <td>48.0</td>\n",
       "      <td>biden</td>\n",
       "      <td>False</td>\n",
       "      <td>1.0</td>\n",
       "      <td>5.8</td>\n",
       "      <td>-4.8</td>\n",
       "    </tr>\n",
       "    <tr>\n",
       "      <th>4</th>\n",
       "      <td>FOX NewsFOX News</td>\n",
       "      <td>6/20 - 6/23</td>\n",
       "      <td>1001</td>\n",
       "      <td>3.0</td>\n",
       "      <td>44.0</td>\n",
       "      <td>45.0</td>\n",
       "      <td>biden</td>\n",
       "      <td>False</td>\n",
       "      <td>1.0</td>\n",
       "      <td>5.8</td>\n",
       "      <td>-4.8</td>\n",
       "    </tr>\n",
       "  </tbody>\n",
       "</table>\n",
       "</div>"
      ],
      "text/plain": [
       "                     poll     date_range  sample_size  margin_of_error  trump  \\\n",
       "0  Dallas Morning NewsDMN    4/18 - 4/27         1183              2.9   43.0   \n",
       "1    QuinnipiacQuinnipiac  10/16 - 10/19         1145              2.9   47.0   \n",
       "2          EmersonEmerson  10/29 - 10/31          763              3.5   49.0   \n",
       "3                  CNNCNN    2/22 - 2/26         1003              3.0   47.0   \n",
       "4        FOX NewsFOX News    6/20 - 6/23         1001              3.0   44.0   \n",
       "\n",
       "   biden winner  is_winner_correct  spread  results_spread  spread_diff  \n",
       "0   43.0    tie              False     0.0             5.8         -5.8  \n",
       "1   47.0    tie              False     0.0             5.8         -5.8  \n",
       "2   49.0    tie              False     0.0             5.8         -5.8  \n",
       "3   48.0  biden              False     1.0             5.8         -4.8  \n",
       "4   45.0  biden              False     1.0             5.8         -4.8  "
      ]
     },
     "execution_count": 18,
     "metadata": {},
     "output_type": "execute_result"
    }
   ],
   "source": [
    "print('bottom 5 polls\\n'\n",
    "      '===========')\n",
    "spark.sql('''\n",
    "    SELECT *\n",
    "    FROM tx_pres_polls\n",
    "    WHERE is_winner_correct = false\n",
    "    ORDER BY abs(spread_diff) DESC\n",
    "    LIMIT 5\n",
    "''').toPandas()"
   ]
  }
 ],
 "metadata": {
  "kernelspec": {
   "display_name": "Python 3",
   "language": "python",
   "name": "python3"
  },
  "language_info": {
   "codemirror_mode": {
    "name": "ipython",
    "version": 3
   },
   "file_extension": ".py",
   "mimetype": "text/x-python",
   "name": "python",
   "nbconvert_exporter": "python",
   "pygments_lexer": "ipython3",
   "version": "3.8.6"
  }
 },
 "nbformat": 4,
 "nbformat_minor": 4
}
